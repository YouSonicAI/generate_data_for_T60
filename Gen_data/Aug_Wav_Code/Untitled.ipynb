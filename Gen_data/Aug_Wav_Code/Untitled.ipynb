{
 "cells": [
  {
   "cell_type": "code",
   "execution_count": 21,
   "id": "badaaa44",
   "metadata": {},
   "outputs": [],
   "source": [
    "file = './conv_wav.sh'"
   ]
  },
  {
   "cell_type": "code",
   "execution_count": 25,
   "id": "139965db",
   "metadata": {},
   "outputs": [],
   "source": [
    "new_lines = open(file, 'r', encoding='utf8').readlines()"
   ]
  },
  {
   "cell_type": "code",
   "execution_count": 26,
   "id": "08185e2f",
   "metadata": {},
   "outputs": [
    {
     "data": {
      "text/plain": [
       "['nohup python main.py --CORPUS_INPUT_FOLDER_ROOT /data2/new_wzd/1000Hz/RIR_Data --CORPUS_OUTPUT_FOLDER_ROOT /data2/new_wzd/1000Hz/modif_output_wav  --need_config dixon-studio-theatre-university-york --MIC_CONFIGs dixon-studio-theatre-university-york  >a_01.out 2>&1 &\\n',\n",
       " '\\n',\n",
       " 'nohup python main.py --CORPUS_INPUT_FOLDER_ROOT /data2/new_wzd/1000Hz/RIR_Data --CORPUS_OUTPUT_FOLDER_ROOT /data2/new_wzd/1000Hz/modif_output_wav  --need_config central-hall-university-york --MIC_CONFIGs central-hall-university-york >a_02.out 2>&1 &\\n',\n",
       " '\\n']"
      ]
     },
     "execution_count": 26,
     "metadata": {},
     "output_type": "execute_result"
    }
   ],
   "source": [
    "new_lines"
   ]
  },
  {
   "cell_type": "code",
   "execution_count": null,
   "id": "7cf1552b",
   "metadata": {},
   "outputs": [],
   "source": []
  },
  {
   "cell_type": "code",
   "execution_count": 5,
   "id": "b6c7fd6e",
   "metadata": {},
   "outputs": [],
   "source": [
    "filepath= './new_conv_wav.sh'"
   ]
  },
  {
   "cell_type": "code",
   "execution_count": 23,
   "id": "32128b20",
   "metadata": {},
   "outputs": [],
   "source": [
    "lines = open(filepath, 'r', encoding='utf8').readlines()"
   ]
  },
  {
   "cell_type": "code",
   "execution_count": 52,
   "id": "d313b2db",
   "metadata": {},
   "outputs": [
    {
     "data": {
      "text/plain": [
       "15"
      ]
     },
     "execution_count": 52,
     "metadata": {},
     "output_type": "execute_result"
    }
   ],
   "source": [
    "len(lines)\n"
   ]
  },
  {
   "cell_type": "code",
   "execution_count": 15,
   "id": "6e50ddd0",
   "metadata": {},
   "outputs": [
    {
     "data": {
      "text/plain": [
       "['python main.py --CORPUS_INPUT_FOLDER_ROOT /data2/new_wzd/1000Hz/RIR_Data --CORPUS_OUTPUT_FOLDER_ROOT /data2/new_wzd/1000Hz/modif_output_wav  --need_config york-guildhall-council-chamber --MIC_CONFIGs york-guildhall-council-chamber\\n',\n",
       " 'python main.py --CORPUS_INPUT_FOLDER_ROOT /data2/new_wzd/1000Hz/RIR_Data --CORPUS_OUTPUT_FOLDER_ROOT /data2/new_wzd/1000Hz/modif_output_wav  --need_config dixon-studio-theatre-university-york --MIC_CONFIGs dixon-studio-theatre-university-york\\n',\n",
       " 'python main.py --CORPUS_INPUT_FOLDER_ROOT /data2/new_wzd/1000Hz/RIR_Data --CORPUS_OUTPUT_FOLDER_ROOT /data2/new_wzd/1000Hz/modif_output_wav  --need_config central-hall-university-york --MIC_CONFIGs central-hall-university-york\\n',\n",
       " 'python main.py --CORPUS_INPUT_FOLDER_ROOT /data2/new_wzd/1000Hz/RIR_Data --CORPUS_OUTPUT_FOLDER_ROOT /data2/new_wzd/1000Hz/modif_output_wav  --need_config trollers-gill --MIC_CONFIGs trollers-gill\\n',\n",
       " 'python main.py --CORPUS_INPUT_FOLDER_ROOT /data2/new_wzd/1000Hz/RIR_Data --CORPUS_OUTPUT_FOLDER_ROOT /data2/new_wzd/1000Hz/modif_output_wav  --need_config creswell-crags --MIC_CONFIGs creswell-crags\\n',\n",
       " 'python main.py --CORPUS_INPUT_FOLDER_ROOT /data2/new_wzd/1000Hz/RIR_Data --CORPUS_OUTPUT_FOLDER_ROOT /data2/new_wzd/1000Hz/modif_output_wav  --need_config newgrange --MIC_CONFIGs newgrange\\n',\n",
       " 'python main.py --CORPUS_INPUT_FOLDER_ROOT /data2/new_wzd/1000Hz/RIR_Data --CORPUS_OUTPUT_FOLDER_ROOT /data2/new_wzd/1000Hz/modif_output_wav  --need_config ron-cooke-hub-university-york --MIC_CONFIGs ron-cooke-hub-university-york\\n',\n",
       " 'python main.py --CORPUS_INPUT_FOLDER_ROOT /data2/new_wzd/1000Hz/RIR_Data --CORPUS_OUTPUT_FOLDER_ROOT /data2/new_wzd/1000Hz/modif_output_wav  --need_config koli-national-park-winter --MIC_CONFIGs koli-national-park-winter\\n',\n",
       " 'python main.py --CORPUS_INPUT_FOLDER_ROOT /data2/new_wzd/1000Hz/RIR_Data --CORPUS_OUTPUT_FOLDER_ROOT /data2/new_wzd/1000Hz/modif_output_wav  --need_config elveden-hall-suffolk-england --MIC_CONFIGs elveden-hall-suffolk-england\\n',\n",
       " 'python main.py --CORPUS_INPUT_FOLDER_ROOT /data2/new_wzd/1000Hz/RIR_Data --CORPUS_OUTPUT_FOLDER_ROOT /data2/new_wzd/1000Hz/modif_output_wav  --need_config stairway-university-york --MIC_CONFIGs stairway-university-york\\n',\n",
       " 'python main.py --CORPUS_INPUT_FOLDER_ROOT /data2/new_wzd/1000Hz/RIR_Data --CORPUS_OUTPUT_FOLDER_ROOT /data2/new_wzd/1000Hz/modif_output_wav  --need_config gill-heads-mine --MIC_CONFIGs gill-heads-mine\\n',\n",
       " 'python main.py --CORPUS_INPUT_FOLDER_ROOT /data2/new_wzd/1000Hz/RIR_Data --CORPUS_OUTPUT_FOLDER_ROOT /data2/new_wzd/1000Hz/modif_output_wav  --need_config hoffmann-lime-kiln-langcliffeuk --MIC_CONFIGs hoffmann-lime-kiln-langcliffeuk\\n',\n",
       " 'python main.py --CORPUS_INPUT_FOLDER_ROOT /data2/new_wzd/1000Hz/RIR_Data --CORPUS_OUTPUT_FOLDER_ROOT /data2/new_wzd/1000Hz/modif_output_wav  --need_config innocent-railway-tunnel --MIC_CONFIGs innocent-railway-tunnel\\n',\n",
       " 'python main.py --CORPUS_INPUT_FOLDER_ROOT /data2/new_wzd/1000Hz/RIR_Data --CORPUS_OUTPUT_FOLDER_ROOT /data2/new_wzd/1000Hz/modif_output_wav  --need_config arthur-sykes-rymer-auditorium-university-york --MIC_CONFIGs arthur-sykes-rymer-auditorium-university-york\\n',\n",
       " 'python main.py --CORPUS_INPUT_FOLDER_ROOT /data2/new_wzd/1000Hz/RIR_Data --CORPUS_OUTPUT_FOLDER_ROOT /data2/new_wzd/1000Hz/modif_output_wav  --need_config koli-national-park-summer --MIC_CONFIGs koli-national-park-summer\\n']"
      ]
     },
     "execution_count": 15,
     "metadata": {},
     "output_type": "execute_result"
    }
   ],
   "source": []
  },
  {
   "cell_type": "code",
   "execution_count": 77,
   "id": "51e44de3",
   "metadata": {},
   "outputs": [],
   "source": [
    "new_lst = []"
   ]
  },
  {
   "cell_type": "code",
   "execution_count": 51,
   "id": "80da712f",
   "metadata": {},
   "outputs": [
    {
     "data": {
      "text/plain": [
       "'nohup python main.py --CORPUS_INPUT_FOLDER_ROOT /data2/new_wzd/1000Hz/RIR_Data --CORPUS_OUTPUT_FOLDER_ROOT /data2/new_wzd/1000Hz/modif_output_wav  --need_config york-guildhall-council-chamber --MIC_CONFIGs york-guildhall-council-chamber >york-guildhall-council-chamber.log 2>&1 &\\n'"
      ]
     },
     "execution_count": 51,
     "metadata": {},
     "output_type": "execute_result"
    }
   ],
   "source": [
    "\"nohup\" + \" \" + lines[0].split('\\n')[0] + \" \" + \">%s 2>&1 &\" % (name) + \"\\n\" \n",
    "    "
   ]
  },
  {
   "cell_type": "code",
   "execution_count": 78,
   "id": "0398e5a3",
   "metadata": {},
   "outputs": [
    {
     "data": {
      "text/plain": [
       "15"
      ]
     },
     "execution_count": 78,
     "metadata": {},
     "output_type": "execute_result"
    }
   ],
   "source": [
    "len(lines)"
   ]
  },
  {
   "cell_type": "code",
   "execution_count": 79,
   "id": "04818197",
   "metadata": {},
   "outputs": [],
   "source": [
    "for i in range(len(lines)):\n",
    "    name = lines[i].split('--MIC_CONFIGs')[-1].split(\"\\n\")[0].strip() + '.log'\n",
    "    new_str = \"nohup\" + \" \" + lines[i].split('\\n')[0] + \" \" + \">%s 2>&1 &\" % (name) + \"\\n\" \n",
    "    new_lst.append(new_str)"
   ]
  },
  {
   "cell_type": "code",
   "execution_count": 81,
   "id": "40840a65",
   "metadata": {},
   "outputs": [
    {
     "data": {
      "text/plain": [
       "15"
      ]
     },
     "execution_count": 81,
     "metadata": {},
     "output_type": "execute_result"
    }
   ],
   "source": [
    "len(new_lst)"
   ]
  },
  {
   "cell_type": "code",
   "execution_count": null,
   "id": "f204de78",
   "metadata": {},
   "outputs": [],
   "source": []
  },
  {
   "cell_type": "code",
   "execution_count": null,
   "id": "48fbcd6c",
   "metadata": {},
   "outputs": [],
   "source": []
  }
 ],
 "metadata": {
  "kernelspec": {
   "display_name": "Python 3 (ipykernel)",
   "language": "python",
   "name": "python3"
  },
  "language_info": {
   "codemirror_mode": {
    "name": "ipython",
    "version": 3
   },
   "file_extension": ".py",
   "mimetype": "text/x-python",
   "name": "python",
   "nbconvert_exporter": "python",
   "pygments_lexer": "ipython3",
   "version": "3.9.12"
  }
 },
 "nbformat": 4,
 "nbformat_minor": 5
}
